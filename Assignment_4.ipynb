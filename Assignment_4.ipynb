{
 "cells": [
  {
   "cell_type": "markdown",
   "metadata": {},
   "source": [
    "#1. What exactly is []? \n",
    "#Ans1: it is a empty list"
   ]
  },
  {
   "cell_type": "code",
   "execution_count": null,
   "metadata": {},
   "outputs": [],
   "source": [
    "#2. In a list of values stored in a variable called spam, how would you assign the value 'hello' as the third value? (Assume [2, 4, 6, 8, 10] are in spam.)\n",
    "spam=[2, 4, 6, 8, 10]\n",
    "spam.insert(2,'hello')\n",
    "spam"
   ]
  },
  {
   "cell_type": "code",
   "execution_count": 6,
   "metadata": {},
   "outputs": [],
   "source": [
    "spam=['a', 'b', 'c', 'd'] "
   ]
  },
  {
   "cell_type": "markdown",
   "metadata": {},
   "source": [
    "#3. What is the value of spam[int(int('3' * 2) / 11)]?\n",
    "#Ans3: d"
   ]
  },
  {
   "cell_type": "markdown",
   "metadata": {},
   "source": [
    "#4. What is the value of spam[-1]?\n",
    "#Ans4: d"
   ]
  },
  {
   "cell_type": "markdown",
   "metadata": {},
   "source": [
    "#5. What is the value of spam[:2]?\n",
    "#Ans5: ['a','b']"
   ]
  },
  {
   "cell_type": "code",
   "execution_count": 12,
   "metadata": {},
   "outputs": [],
   "source": [
    "bacon=[3.14, 'cat',11, 'cat', True]"
   ]
  },
  {
   "cell_type": "markdown",
   "metadata": {},
   "source": [
    "#6. What is the value of bacon.index('cat')?\n",
    "#Ans6: 1"
   ]
  },
  {
   "cell_type": "code",
   "execution_count": null,
   "metadata": {},
   "outputs": [],
   "source": [
    "#7. How does bacon.append(99) change the look of the list value in bacon?\n",
    "#Ans7: [3.14, 'cat',11, 'cat', True,99]"
   ]
  },
  {
   "cell_type": "markdown",
   "metadata": {},
   "source": [
    "#8. How does bacon.remove('cat') change the look of the list in bacon?\n",
    "Ans8: [3.14, 11, True]"
   ]
  },
  {
   "cell_type": "code",
   "execution_count": 48,
   "metadata": {},
   "outputs": [
    {
     "name": "stdout",
     "output_type": "stream",
     "text": [
      "[1, 2, 3, 4]\n",
      "[1, 2, 1, 2]\n"
     ]
    }
   ],
   "source": [
    "#9. What are the list concatenation and list replication operators?\n",
    "#Ans9: concatenation (+) add the two list in one list whereas replication (*) will add the elements of a list with that many times like a=[1,2] b=[3,4] so a+b will be [1,2,3,4] and a*2 will be [1,2,1,2]\n",
    "a=[1,2];b=[3,4] \n",
    "print(a+b)\n",
    "print(a*2)"
   ]
  },
  {
   "cell_type": "markdown",
   "metadata": {},
   "source": [
    "#10. What is difference between the list methods append() and insert()?\n",
    "#Ans10: append will add the element at the last position in a list wherease insert is to add element at the given index location in the list"
   ]
  },
  {
   "cell_type": "markdown",
   "metadata": {},
   "source": [
    "#11. What are the two methods for removing items from a list?\n",
    "#Ans11: Two methods are pop() and remove() which can be used to remove items from a list"
   ]
  },
  {
   "cell_type": "markdown",
   "metadata": {},
   "source": [
    "#12. Describe how list values and string values are identical.\n",
    "#Ans12: Both list and string can store any type of values , both can be iterated "
   ]
  },
  {
   "cell_type": "markdown",
   "metadata": {},
   "source": [
    "#13. What's the difference between tuples and lists?\n",
    "#Ans13: tuples are immutalbe whereas lists are mutable. tuple is described with () wherease list is describe with []"
   ]
  },
  {
   "cell_type": "markdown",
   "metadata": {},
   "source": [
    "#14. How do you type a tuple value that only contains the integer 42?\n",
    "#Ans14: t=(42,)"
   ]
  },
  {
   "cell_type": "markdown",
   "metadata": {},
   "source": [
    "#15. How do you get a list value's tuple form? How do you get a tuple value's list form?\n",
    "#Ans15: lets \n",
    "#t=[1,2,3]\n",
    "#t1=tuple(t) converted list into tuple\n",
    "#t2=list(t1) coverted tuple into list"
   ]
  },
  {
   "cell_type": "markdown",
   "metadata": {},
   "source": [
    "#16. Variables that \"contain\" list values are not necessarily lists themselves. Instead, what do they contain?\n",
    "#Ans16: list contains individual items"
   ]
  },
  {
   "cell_type": "markdown",
   "metadata": {},
   "source": [
    "#17. How do you distinguish between copy.copy() and copy.deepcopy()?\n",
    "#Ans17: If we have original nested list then this is copied with using copy.copy()  in copied list, both original and copied list shares the reference of nested list and if change anything in the list it will change for both original and copied list, but deepcopy() both lists will have different reference so any change in one list will not perform any changes in the other.\n",
    "Below are the example"
   ]
  },
  {
   "cell_type": "code",
   "execution_count": null,
   "metadata": {},
   "outputs": [],
   "source": [
    "import copy\n",
    "l1=[[1,2,3,4],['a','b']]\n",
    "l2=copy.deepcopy(l1)\n",
    "print(l1,l2)\n",
    "l1[1][1]=6\n",
    "print(l1,l2)"
   ]
  },
  {
   "cell_type": "code",
   "execution_count": null,
   "metadata": {},
   "outputs": [],
   "source": [
    "l1=[[1,2,3,4],['a','b']]\n",
    "l2=copy.copy(l1)\n",
    "print(l1,l2)\n",
    "l1[1][1]=6\n",
    "print(l1,l2)"
   ]
  },
  {
   "cell_type": "code",
   "execution_count": 49,
   "metadata": {},
   "outputs": [],
   "source": [
    "l=[1,2]"
   ]
  },
  {
   "cell_type": "code",
   "execution_count": 51,
   "metadata": {},
   "outputs": [
    {
     "data": {
      "text/plain": [
       "int"
      ]
     },
     "execution_count": 51,
     "metadata": {},
     "output_type": "execute_result"
    }
   ],
   "source": [
    "type(l[1])"
   ]
  },
  {
   "cell_type": "code",
   "execution_count": null,
   "metadata": {},
   "outputs": [],
   "source": []
  }
 ],
 "metadata": {
  "kernelspec": {
   "display_name": "Python 3",
   "language": "python",
   "name": "python3"
  },
  "language_info": {
   "codemirror_mode": {
    "name": "ipython",
    "version": 3
   },
   "file_extension": ".py",
   "mimetype": "text/x-python",
   "name": "python",
   "nbconvert_exporter": "python",
   "pygments_lexer": "ipython3",
   "version": "3.7.4"
  }
 },
 "nbformat": 4,
 "nbformat_minor": 2
}
